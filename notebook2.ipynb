{
  "nbformat": 4,
  "nbformat_minor": 0,
  "metadata": {
    "colab": {
      "name": "notebook1.ipynb",
      "version": "0.3.2",
      "provenance": [],
      "collapsed_sections": [],
      "include_colab_link": true
    },
    "kernelspec": {
      "name": "python3",
      "display_name": "Python 3"
    },
    "accelerator": "GPU"
  },
  "cells": [
    {
      "cell_type": "markdown",
      "metadata": {
        "id": "view-in-github",
        "colab_type": "text"
      },
      "source": [
        "[View in Colaboratory](https://colab.research.google.com/github/nikhilbhatewara/CodeSnippets/blob/master/notebook2.ipynb)"
      ]
    },
    {
      "metadata": {
        "id": "fq6WcoUNiRDu",
        "colab_type": "code",
        "colab": {
          "base_uri": "https://localhost:8080/",
          "height": 156
        },
        "outputId": "4ab1f3f2-ce5f-48e0-d09d-fe173d701469"
      },
      "cell_type": "code",
      "source": [
        "%%time\n",
        "import pandas as pd\n",
        "import numpy as np\n",
        "import os\n",
        "import scipy.stats as sts\n",
        "!pip install xlrd\n",
        "import io\n",
        "# plotting modules\n",
        "import seaborn as sns\n",
        "import matplotlib.pyplot as plt"
      ],
      "execution_count": 1,
      "outputs": [
        {
          "output_type": "stream",
          "text": [
            "Collecting xlrd\n",
            "\u001b[?25l  Downloading https://files.pythonhosted.org/packages/07/e6/e95c4eec6221bfd8528bcc4ea252a850bffcc4be88ebc367e23a1a84b0bb/xlrd-1.1.0-py2.py3-none-any.whl (108kB)\n",
            "\u001b[K    100% |████████████████████████████████| 112kB 2.7MB/s \n",
            "\u001b[?25hInstalling collected packages: xlrd\n",
            "Successfully installed xlrd-1.1.0\n",
            "CPU times: user 51.9 ms, sys: 11.6 ms, total: 63.6 ms\n",
            "Wall time: 6.25 s\n"
          ],
          "name": "stdout"
        }
      ]
    },
    {
      "metadata": {
        "id": "tZktsuFHkiSW",
        "colab_type": "code",
        "colab": {
          "base_uri": "https://localhost:8080/",
          "height": 34
        },
        "outputId": "c26f0830-c36d-4c47-e75b-381207a8c584"
      },
      "cell_type": "code",
      "source": [
        "# Load the Drive helper and mount\n",
        "from google.colab import drive\n",
        "\n",
        "# This will prompt for authorization.\n",
        "drive.mount('/content/drive')"
      ],
      "execution_count": 106,
      "outputs": [
        {
          "output_type": "stream",
          "text": [
            "Drive already mounted at /content/drive; to attempt to forcibly remount, call drive.mount(\"/content/drive\", force_remount=True).\n"
          ],
          "name": "stdout"
        }
      ]
    },
    {
      "metadata": {
        "id": "i6jNyBj3krY_",
        "colab_type": "code",
        "colab": {
          "base_uri": "https://localhost:8080/",
          "height": 323
        },
        "outputId": "e592e798-64b2-468b-acc5-62bf53b6e5a3"
      },
      "cell_type": "code",
      "source": [
        "# After executing the cell above, Drive\n",
        "# files will be present in \"/content/drive/My Drive/dataincubator/details\".\n",
        "!ls \"/content/drive/My Drive/dataincubator/details\""
      ],
      "execution_count": 107,
      "outputs": [
        {
          "output_type": "stream",
          "text": [
            "2009Q3-house-disburse-detail.csv  2014Q1-house-disburse-detail.csv\n",
            "2009Q4-house-disburse-detail.csv  2014Q2-house-disburse-detail.csv\n",
            "2010Q1-house-disburse-detail.csv  2014Q3-house-disburse-detail.csv\n",
            "2010Q2-house-disburse-detail.csv  2014Q4-house-disburse-detail.csv\n",
            "2010Q3-house-disburse-detail.csv  2015Q1-house-disburse-detail.csv\n",
            "2010Q4-house-disburse-detail.csv  2015Q2-house-disburse-detail.csv\n",
            "2011Q1-house-disburse-detail.csv  2015Q2-house-disburse-detail-updated.csv\n",
            "2011Q2-house-disburse-detail.csv  2015Q3-house-disburse-detail.csv\n",
            "2011Q3-house-disburse-detail.csv  2015Q4-house-disburse-detail.csv\n",
            "2011Q4-house-disburse-detail.csv  2016Q1-house-disburse-detail.csv\n",
            "2012Q1-house-disburse-detail.csv  2016Q2-house-disburse-detail.csv\n",
            "2012Q2-house-disburse-detail.csv  2016Q3-house-disburse-detail.csv\n",
            "2012Q3-house-disburse-detail.csv  2016Q4-house-disburse-detail.csv\n",
            "2012Q4-house-disburse-detail.csv  2017Q1-house-disburse-detail.csv\n",
            "2013Q1-house-disburse-detail.csv  2017Q2-house-disburse-detail.csv\n",
            "2013Q2-house-disburse-detail.csv  2017Q3-house-disburse-detail.csv\n",
            "2013Q3-house-disburse-detail.csv  2017Q4-house-disburse-detail.csv\n",
            "2013Q4-house-disburse-detail.csv  2018Q1-house-disburse-detail.csv\n"
          ],
          "name": "stdout"
        }
      ]
    },
    {
      "metadata": {
        "id": "9NU_nyrLlKeY",
        "colab_type": "code",
        "colab": {}
      },
      "cell_type": "code",
      "source": [
        "%%time\n",
        "\n",
        "data_2009Q3 = pd.read_csv(\"/content/drive/My Drive/dataincubator/details/2009Q3-house-disburse-detail.csv\",engine=\"python\")\n",
        "data_2009Q4 = pd.read_csv(\"/content/drive/My Drive/dataincubator/details/2009Q4-house-disburse-detail.csv\",engine=\"python\")\n",
        "data_2010Q1 = pd.read_csv(\"/content/drive/My Drive/dataincubator/details/2010Q1-house-disburse-detail.csv\",engine=\"python\")\n",
        "data_2010Q2 = pd.read_csv(\"/content/drive/My Drive/dataincubator/details/2010Q2-house-disburse-detail.csv\",engine=\"python\")\n",
        "data_2010Q3 = pd.read_csv(\"/content/drive/My Drive/dataincubator/details/2010Q3-house-disburse-detail.csv\",engine=\"python\")\n",
        "data_2010Q4 = pd.read_csv(\"/content/drive/My Drive/dataincubator/details/2010Q4-house-disburse-detail.csv\",engine=\"python\")\n",
        "data_2011Q1 = pd.read_csv(\"/content/drive/My Drive/dataincubator/details/2011Q1-house-disburse-detail.csv\",engine=\"python\")\n",
        "data_2011Q2 = pd.read_csv(\"/content/drive/My Drive/dataincubator/details/2011Q2-house-disburse-detail.csv\",engine=\"python\")\n",
        "data_2011Q3 = pd.read_csv(\"/content/drive/My Drive/dataincubator/details/2011Q3-house-disburse-detail.csv\",engine=\"python\")\n",
        "data_2011Q4 = pd.read_csv(\"/content/drive/My Drive/dataincubator/details/2011Q4-house-disburse-detail.csv\",engine=\"python\")\n",
        "data_2012Q1 = pd.read_csv(\"/content/drive/My Drive/dataincubator/details/2012Q1-house-disburse-detail.csv\",engine=\"python\")\n",
        "data_2012Q2 = pd.read_csv(\"/content/drive/My Drive/dataincubator/details/2012Q2-house-disburse-detail.csv\",engine=\"python\")\n",
        "data_2012Q3 = pd.read_csv(\"/content/drive/My Drive/dataincubator/details/2012Q3-house-disburse-detail.csv\",engine=\"python\")\n",
        "data_2012Q4 = pd.read_csv(\"/content/drive/My Drive/dataincubator/details/2012Q4-house-disburse-detail.csv\",engine=\"python\")\n",
        "data_2013Q1 = pd.read_csv(\"/content/drive/My Drive/dataincubator/details/2013Q1-house-disburse-detail.csv\",engine=\"python\")\n",
        "data_2013Q2 = pd.read_csv(\"/content/drive/My Drive/dataincubator/details/2013Q2-house-disburse-detail.csv\",engine=\"python\")\n",
        "data_2013Q3 = pd.read_csv(\"/content/drive/My Drive/dataincubator/details/2013Q3-house-disburse-detail.csv\",engine=\"python\")\n",
        "data_2013Q4 = pd.read_csv(\"/content/drive/My Drive/dataincubator/details/2013Q4-house-disburse-detail.csv\",engine=\"python\")\n",
        "data_2014Q1 = pd.read_csv(\"/content/drive/My Drive/dataincubator/details/2014Q1-house-disburse-detail.csv\",engine=\"python\")\n",
        "data_2014Q2 = pd.read_csv(\"/content/drive/My Drive/dataincubator/details/2014Q2-house-disburse-detail.csv\",engine=\"python\")\n",
        "data_2014Q3 = pd.read_csv(\"/content/drive/My Drive/dataincubator/details/2014Q3-house-disburse-detail.csv\",engine=\"python\")\n",
        "data_2014Q4 = pd.read_csv(\"/content/drive/My Drive/dataincubator/details/2014Q4-house-disburse-detail.csv\",engine=\"python\")\n",
        "data_2015Q1 = pd.read_csv(\"/content/drive/My Drive/dataincubator/details/2015Q1-house-disburse-detail.csv\",engine=\"python\")\n",
        "data_2015Q2 = pd.read_csv(\"/content/drive/My Drive/dataincubator/details/2015Q2-house-disburse-detail-updated.csv\",engine=\"python\")\n",
        "data_2015Q3 = pd.read_csv(\"/content/drive/My Drive/dataincubator/details/2015Q3-house-disburse-detail.csv\",engine=\"python\")\n",
        "data_2015Q4 = pd.read_csv(\"/content/drive/My Drive/dataincubator/details/2015Q4-house-disburse-detail.csv\",engine=\"python\")\n",
        "data_2016Q1 = pd.read_csv(\"/content/drive/My Drive/dataincubator/details/2016Q1-house-disburse-detail.csv\",engine=\"python\")\n",
        "data_2016Q2 = pd.read_csv(\"/content/drive/My Drive/dataincubator/details/2016Q2-house-disburse-detail.csv\",engine=\"python\")\n",
        "data_2016Q3 = pd.read_csv(\"/content/drive/My Drive/dataincubator/details/2016Q3-house-disburse-detail.csv\",engine=\"python\")\n",
        "data_2016Q4 = pd.read_csv(\"/content/drive/My Drive/dataincubator/details/2016Q4-house-disburse-detail.csv\",engine=\"python\")\n",
        "data_2017Q1 = pd.read_csv(\"/content/drive/My Drive/dataincubator/details/2017Q1-house-disburse-detail.csv\",engine=\"python\")\n",
        "data_2017Q2 = pd.read_csv(\"/content/drive/My Drive/dataincubator/details/2017Q2-house-disburse-detail.csv\",engine=\"python\")\n",
        "data_2017Q3 = pd.read_csv(\"/content/drive/My Drive/dataincubator/details/2017Q3-house-disburse-detail.csv\",engine=\"python\")\n",
        "data_2017Q4 = pd.read_csv(\"/content/drive/My Drive/dataincubator/details/2017Q4-house-disburse-detail.csv\",engine=\"python\")\n",
        "data_2018Q1 = pd.read_csv(\"/content/drive/My Drive/dataincubator/details/2018Q1-house-disburse-detail.csv\",engine=\"python\")\n",
        "\n"
      ],
      "execution_count": 0,
      "outputs": []
    },
    {
      "metadata": {
        "id": "erCEV8pkl9k5",
        "colab_type": "code",
        "colab": {}
      },
      "cell_type": "code",
      "source": [
        "data_2009Q3.columns\t=\tdata_2009Q3.columns.str.replace('\\s+', '_') \n",
        "data_2009Q4.columns\t=\tdata_2009Q4.columns.str.replace('\\s+', '_') \n",
        "data_2010Q1.columns\t=\tdata_2010Q1.columns.str.replace('\\s+', '_') \n",
        "data_2010Q2.columns\t=\tdata_2010Q2.columns.str.replace('\\s+', '_') \n",
        "data_2010Q3.columns\t=\tdata_2010Q3.columns.str.replace('\\s+', '_') \n",
        "data_2010Q4.columns\t=\tdata_2010Q4.columns.str.replace('\\s+', '_') \n",
        "data_2011Q1.columns\t=\tdata_2011Q1.columns.str.replace('\\s+', '_') \n",
        "data_2011Q2.columns\t=\tdata_2011Q2.columns.str.replace('\\s+', '_') \n",
        "data_2011Q3.columns\t=\tdata_2011Q3.columns.str.replace('\\s+', '_') \n",
        "data_2011Q4.columns\t=\tdata_2011Q4.columns.str.replace('\\s+', '_') \n",
        "data_2012Q1.columns\t=\tdata_2012Q1.columns.str.replace('\\s+', '_') \n",
        "data_2012Q2.columns\t=\tdata_2012Q2.columns.str.replace('\\s+', '_') \n",
        "data_2012Q3.columns\t=\tdata_2012Q3.columns.str.replace('\\s+', '_') \n",
        "data_2012Q4.columns\t=\tdata_2012Q4.columns.str.replace('\\s+', '_') \n",
        "data_2013Q1.columns\t=\tdata_2013Q1.columns.str.replace('\\s+', '_') \n",
        "data_2013Q2.columns\t=\tdata_2013Q2.columns.str.replace('\\s+', '_') \n",
        "data_2013Q3.columns\t=\tdata_2013Q3.columns.str.replace('\\s+', '_') \n",
        "data_2013Q4.columns\t=\tdata_2013Q4.columns.str.replace('\\s+', '_') \n",
        "data_2014Q1.columns\t=\tdata_2014Q1.columns.str.replace('\\s+', '_') \n",
        "data_2014Q2.columns\t=\tdata_2014Q2.columns.str.replace('\\s+', '_') \n",
        "data_2014Q3.columns\t=\tdata_2014Q3.columns.str.replace('\\s+', '_') \n",
        "data_2014Q4.columns\t=\tdata_2014Q4.columns.str.replace('\\s+', '_') \n",
        "data_2015Q1.columns\t=\tdata_2015Q1.columns.str.replace('\\s+', '_') \n",
        "data_2015Q2.columns\t=\tdata_2015Q2.columns.str.replace('\\s+', '_') \n",
        "data_2015Q3.columns\t=\tdata_2015Q3.columns.str.replace('\\s+', '_') \n",
        "data_2015Q4.columns\t=\tdata_2015Q4.columns.str.replace('\\s+', '_') \n",
        "data_2016Q1.columns\t=\tdata_2016Q1.columns.str.replace('\\s+', '_') \n",
        "data_2016Q2.columns\t=\tdata_2016Q2.columns.str.replace('\\s+', '_') \n",
        "data_2016Q3.columns\t=\tdata_2016Q3.columns.str.replace('\\s+', '_') \n",
        "data_2016Q4.columns\t=\tdata_2016Q4.columns.str.replace('\\s+', '_') \n",
        "data_2017Q1.columns\t=\tdata_2017Q1.columns.str.replace('\\s+', '_') \n",
        "data_2017Q2.columns\t=\tdata_2017Q2.columns.str.replace('\\s+', '_') \n",
        "data_2017Q3.columns\t=\tdata_2017Q3.columns.str.replace('\\s+', '_') \n",
        "data_2017Q4.columns\t=\tdata_2017Q4.columns.str.replace('\\s+', '_') \n",
        "data_2018Q1.columns\t=\tdata_2018Q1.columns.str.replace('\\s+', '_') \n"
      ],
      "execution_count": 0,
      "outputs": []
    },
    {
      "metadata": {
        "id": "hRjbzfa3qUXl",
        "colab_type": "code",
        "colab": {
          "base_uri": "https://localhost:8080/",
          "height": 272
        },
        "outputId": "e20ad9cb-72d4-4992-dfdb-ddd1d179fff2"
      },
      "cell_type": "code",
      "source": [
        "data_2009Q3.isnull().sum()\n",
        "data_2009Q4.isnull().sum()\n",
        "data_2010Q1.isnull().sum()\n",
        "data_2010Q2.isnull().sum()\n",
        "data_2010Q3.isnull().sum()\n",
        "data_2010Q4.isnull().sum()\n",
        "data_2011Q1.isnull().sum()\n",
        "data_2011Q2.isnull().sum()\n",
        "data_2011Q3.isnull().sum()\n",
        "data_2011Q4.isnull().sum()\n",
        "data_2012Q1.isnull().sum()\n",
        "data_2012Q2.isnull().sum()\n",
        "data_2012Q3.isnull().sum()\n",
        "data_2012Q4.isnull().sum()\n",
        "data_2013Q1.isnull().sum()\n",
        "data_2013Q2.isnull().sum()\n",
        "data_2013Q3.isnull().sum()\n",
        "data_2013Q4.isnull().sum()\n",
        "data_2014Q1.isnull().sum()\n",
        "data_2014Q2.isnull().sum()\n",
        "data_2014Q3.isnull().sum()\n",
        "data_2014Q4.isnull().sum()\n",
        "data_2015Q1.isnull().sum()\n",
        "data_2015Q2.isnull().sum()\n",
        "data_2015Q3.isnull().sum()\n",
        "data_2015Q4.isnull().sum()\n",
        "data_2016Q1.isnull().sum()\n",
        "data_2016Q2.isnull().sum()\n",
        "data_2016Q3.isnull().sum()\n",
        "data_2016Q4.isnull().sum()\n",
        "data_2017Q1.isnull().sum()\n",
        "data_2017Q2.isnull().sum()\n",
        "data_2017Q3.isnull().sum()\n",
        "data_2017Q4.isnull().sum()\n",
        "data_2018Q1.isnull().sum()\n"
      ],
      "execution_count": 323,
      "outputs": [
        {
          "output_type": "execute_result",
          "data": {
            "text/plain": [
              "BIOGUIDE_ID      15698\n",
              "OFFICE               0\n",
              "PROGRAM              0\n",
              "CATEGORY             0\n",
              "SORT_SEQUENCE        0\n",
              "DATE                 0\n",
              "TRANSCODE            0\n",
              "RECORDID             0\n",
              "PAYEE                0\n",
              "START_DATE           0\n",
              "END_DATE             0\n",
              "PURPOSE              0\n",
              "AMOUNT               0\n",
              "YEAR                 0\n",
              "dtype: int64"
            ]
          },
          "metadata": {
            "tags": []
          },
          "execution_count": 323
        }
      ]
    },
    {
      "metadata": {
        "id": "mhMg60N-FzLG",
        "colab_type": "code",
        "colab": {}
      },
      "cell_type": "code",
      "source": [
        "data_2009Q3.AMOUNT=data_2009Q3.AMOUNT.str.replace(',', '').astype('float64')\n",
        "data_2009Q4.AMOUNT=data_2009Q4.AMOUNT.str.replace(',', '').astype('float64')\n",
        "data_2010Q1.AMOUNT=data_2010Q1.AMOUNT.str.replace(',', '').astype('float64')\n",
        "data_2010Q2.AMOUNT=data_2010Q2.AMOUNT.str.replace(',', '').astype('float64')\n",
        "data_2010Q3.AMOUNT=data_2010Q3.AMOUNT.str.replace(',', '').astype('float64')\n",
        "data_2010Q4.AMOUNT=data_2010Q4.AMOUNT.str.replace(',', '').astype('float64')\n",
        "data_2011Q1.AMOUNT=data_2011Q1.AMOUNT.str.replace(',', '').astype('float64')\n",
        "data_2011Q2.AMOUNT=data_2011Q2.AMOUNT.str.replace(',', '').astype('float64')\n",
        "data_2011Q3.AMOUNT=data_2011Q3.AMOUNT.str.replace(',', '').astype('float64')\n",
        "data_2011Q4.AMOUNT=data_2011Q4.AMOUNT.str.replace(',', '').astype('float64')\n",
        "data_2012Q1.AMOUNT=data_2012Q1.AMOUNT.str.replace(',', '').astype('float64')\n",
        "data_2012Q2.AMOUNT=data_2012Q2.AMOUNT.str.replace(',', '').astype('float64')\n",
        "data_2012Q3.AMOUNT=data_2012Q3.AMOUNT.str.replace(',', '').astype('float64')\n",
        "data_2012Q4.AMOUNT=data_2012Q4.AMOUNT.str.replace(',', '').astype('float64')\n",
        "data_2013Q1.AMOUNT=data_2013Q1.AMOUNT.str.replace(',', '').astype('float64')\n",
        "data_2013Q2.AMOUNT=data_2013Q2.AMOUNT.str.replace(',', '').astype('float64')\n",
        "data_2013Q3.AMOUNT=data_2013Q3.AMOUNT.str.replace(',', '').astype('float64')\n",
        "data_2013Q4.AMOUNT=data_2013Q4.AMOUNT.str.replace(',', '').astype('float64')\n",
        "data_2014Q1.AMOUNT=data_2014Q1.AMOUNT.str.replace(',', '').astype('float64')\n",
        "data_2014Q2.AMOUNT=data_2014Q2.AMOUNT.str.replace(',', '').astype('float64')\n",
        "data_2014Q3.AMOUNT=data_2014Q3.AMOUNT.str.replace(',', '').astype('float64')\n",
        "data_2014Q4.AMOUNT=data_2014Q4.AMOUNT.str.replace(',', '').astype('float64')\n",
        "data_2015Q1.AMOUNT=data_2015Q1.AMOUNT.str.replace(',', '').astype('float64')\n",
        "data_2015Q2.AMOUNT=data_2015Q2.AMOUNT.str.replace(',', '').astype('float64')\n",
        "data_2015Q3.AMOUNT=data_2015Q3.AMOUNT.str.replace(',', '').astype('float64')\n",
        "data_2015Q4.AMOUNT=data_2015Q4.AMOUNT.str.replace(',', '').astype('float64')\n",
        "data_2016Q1.AMOUNT=data_2016Q1.AMOUNT.str.replace(',', '').astype('float64')\n",
        "data_2016Q2.AMOUNT=data_2016Q2.AMOUNT.str.replace(',', '').astype('float64')\n",
        "data_2016Q3.AMOUNT=data_2016Q3.AMOUNT.str.replace(',', '').astype('float64')\n",
        "\n",
        "# No String Values, hence we cannot use .str\n",
        "\n",
        "\n",
        "data_2016Q4.AMOUNT=data_2016Q4.AMOUNT.replace(',', '').astype('float64')\n",
        "data_2017Q1.AMOUNT=data_2017Q1.AMOUNT.replace(',', '').astype('float64')\n",
        "data_2017Q2.AMOUNT=data_2017Q2.AMOUNT.replace(',', '').astype('float64')\n",
        "data_2017Q3.AMOUNT=data_2017Q3.AMOUNT.replace(',', '').astype('float64')\n",
        "data_2017Q4.AMOUNT=data_2017Q4.AMOUNT.replace(',', '').astype('float64')\n",
        "data_2018Q1.AMOUNT=data_2018Q1.AMOUNT.replace(',', '').astype('float64')"
      ],
      "execution_count": 0,
      "outputs": []
    },
    {
      "metadata": {
        "id": "-PYw47TPKrdN",
        "colab_type": "code",
        "colab": {
          "base_uri": "https://localhost:8080/",
          "height": 111
        },
        "outputId": "9c493479-683e-447f-906b-a1dd3851909c"
      },
      "cell_type": "code",
      "source": [
        "\n",
        "def convert_float_amount(df):\n",
        "  try:\n",
        "    df.loc[:,\"AMOUNT\"]=df.loc[:,\"AMOUNT\"].str.replace(',', '').astype('float64')\n",
        "  except  Exception as e:\n",
        "    print('Invalid Data', e)\n",
        "  else:\n",
        "      df.loc[:,\"AMOUNT\"]=df.loc[:,\"AMOUNT\"].replace(',', '').astype('float64')\n",
        "  return df\n"
      ],
      "execution_count": 341,
      "outputs": [
        {
          "output_type": "execute_result",
          "data": {
            "text/html": [
              "<div>\n",
              "<style scoped>\n",
              "    .dataframe tbody tr th:only-of-type {\n",
              "        vertical-align: middle;\n",
              "    }\n",
              "\n",
              "    .dataframe tbody tr th {\n",
              "        vertical-align: top;\n",
              "    }\n",
              "\n",
              "    .dataframe thead th {\n",
              "        text-align: right;\n",
              "    }\n",
              "</style>\n",
              "<table border=\"1\" class=\"dataframe\">\n",
              "  <thead>\n",
              "    <tr style=\"text-align: right;\">\n",
              "      <th></th>\n",
              "      <th>AMOUNT</th>\n",
              "    </tr>\n",
              "  </thead>\n",
              "  <tbody>\n",
              "    <tr>\n",
              "      <th>0</th>\n",
              "      <td>1376.345</td>\n",
              "    </tr>\n",
              "    <tr>\n",
              "      <th>1</th>\n",
              "      <td>1876.000</td>\n",
              "    </tr>\n",
              "  </tbody>\n",
              "</table>\n",
              "</div>"
            ],
            "text/plain": [
              "     AMOUNT\n",
              "0  1376.345\n",
              "1  1876.000"
            ]
          },
          "metadata": {
            "tags": []
          },
          "execution_count": 341
        }
      ]
    },
    {
      "metadata": {
        "id": "SN82Zdrss0y4",
        "colab_type": "code",
        "colab": {}
      },
      "cell_type": "code",
      "source": [
        "data_2009Q3=convert_float_amount(data_2009Q3)\n",
        "data_2009Q4=convert_float_amount(data_2009Q4)\n",
        "data_2010Q1=convert_float_amount(data_2010Q1)\n",
        "data_2010Q2=convert_float_amount(data_2010Q2)\n",
        "data_2010Q3=convert_float_amount(data_2010Q3)\n",
        "data_2010Q4=convert_float_amount(data_2010Q4)\n",
        "data_2011Q1=convert_float_amount(data_2011Q1)\n",
        "data_2011Q2=convert_float_amount(data_2011Q2)\n",
        "data_2011Q3=convert_float_amount(data_2011Q3)\n",
        "data_2011Q4=convert_float_amount(data_2011Q4)\n",
        "data_2012Q1=convert_float_amount(data_2012Q1)\n",
        "data_2012Q2=convert_float_amount(data_2012Q2)\n",
        "data_2012Q3=convert_float_amount(data_2012Q3)\n",
        "data_2012Q4=convert_float_amount(data_2012Q4)\n",
        "data_2013Q1=convert_float_amount(data_2013Q1)\n",
        "data_2013Q2=convert_float_amount(data_2013Q2)\n",
        "data_2013Q3=convert_float_amount(data_2013Q3)\n",
        "data_2013Q4=convert_float_amount(data_2013Q4)\n",
        "data_2014Q1=convert_float_amount(data_2014Q1)\n",
        "data_2014Q2=convert_float_amount(data_2014Q2)\n",
        "data_2014Q3=convert_float_amount(data_2014Q3)\n",
        "data_2014Q4=convert_float_amount(data_2014Q4)\n",
        "data_2015Q1=convert_float_amount(data_2015Q1)\n",
        "data_2015Q2=convert_float_amount(data_2015Q2)\n",
        "data_2015Q3=convert_float_amount(data_2015Q3)\n",
        "data_2015Q4=convert_float_amount(data_2015Q4)\n",
        "data_2016Q1=convert_float_amount(data_2016Q1)\n",
        "data_2016Q2=convert_float_amount(data_2016Q2)\n",
        "data_2016Q3=convert_float_amount(data_2016Q3)\n",
        "data_2016Q4=convert_float_amount(data_2016Q4)\n",
        "data_2017Q1=convert_float_amount(data_2017Q1)\n",
        "data_2017Q2=convert_float_amount(data_2017Q2)\n",
        "data_2017Q3=convert_float_amount(data_2017Q3)\n",
        "data_2017Q4=convert_float_amount(data_2017Q4)\n",
        "data_2018Q1=convert_float_amount(data_2018Q1)\n"
      ],
      "execution_count": 0,
      "outputs": []
    },
    {
      "metadata": {
        "id": "2zM_otQw-bNO",
        "colab_type": "code",
        "colab": {}
      },
      "cell_type": "code",
      "source": [
        "data_2009Q3_TOTAL=sum(data_2009Q3.AMOUNT)\n",
        "data_2009Q4_TOTAL=sum(data_2009Q4.AMOUNT)\n",
        "data_2010Q1_TOTAL=sum(data_2010Q1.AMOUNT)\n",
        "data_2010Q2_TOTAL=sum(data_2010Q2.AMOUNT)\n",
        "data_2010Q3_TOTAL=sum(data_2010Q3.AMOUNT)\n",
        "data_2010Q4_TOTAL=sum(data_2010Q4.AMOUNT)\n",
        "data_2011Q1_TOTAL=sum(data_2011Q1.AMOUNT)\n",
        "data_2011Q2_TOTAL=sum(data_2011Q2.AMOUNT)\n",
        "data_2011Q3_TOTAL=sum(data_2011Q3.AMOUNT)\n",
        "data_2011Q4_TOTAL=sum(data_2011Q4.AMOUNT)\n",
        "data_2012Q1_TOTAL=sum(data_2012Q1.AMOUNT)\n",
        "data_2012Q2_TOTAL=sum(data_2012Q2.AMOUNT)\n",
        "data_2012Q3_TOTAL=sum(data_2012Q3.AMOUNT)\n",
        "data_2012Q4_TOTAL=sum(data_2012Q4.AMOUNT)\n",
        "data_2013Q1_TOTAL=sum(data_2013Q1.AMOUNT)\n",
        "data_2013Q2_TOTAL=sum(data_2013Q2.AMOUNT)\n",
        "data_2013Q3_TOTAL=sum(data_2013Q3.AMOUNT)\n",
        "data_2013Q4_TOTAL=sum(data_2013Q4.AMOUNT)\n",
        "data_2014Q1_TOTAL=sum(data_2014Q1.AMOUNT)\n",
        "data_2014Q2_TOTAL=sum(data_2014Q2.AMOUNT)\n",
        "data_2014Q3_TOTAL=sum(data_2014Q3.AMOUNT)\n",
        "data_2014Q4_TOTAL=sum(data_2014Q4.AMOUNT)\n",
        "data_2015Q1_TOTAL=sum(data_2015Q1.AMOUNT)\n",
        "data_2015Q2_TOTAL=sum(data_2015Q2.AMOUNT)\n",
        "data_2015Q3_TOTAL=sum(data_2015Q3.AMOUNT)\n",
        "data_2015Q4_TOTAL=sum(data_2015Q4.AMOUNT)\n",
        "data_2016Q1_TOTAL=sum(data_2016Q1.AMOUNT)\n",
        "data_2016Q2_TOTAL=sum(data_2016Q2.AMOUNT)\n",
        "data_2016Q3_TOTAL=sum(data_2016Q3.AMOUNT)\n",
        "data_2016Q4_TOTAL=sum(data_2016Q4.AMOUNT)\n",
        "data_2017Q1_TOTAL=sum(data_2017Q1.AMOUNT)\n",
        "data_2017Q2_TOTAL=sum(data_2017Q2.AMOUNT)\n",
        "data_2017Q3_TOTAL=sum(data_2017Q3.AMOUNT)\n",
        "data_2017Q4_TOTAL=sum(data_2017Q4.AMOUNT)\n",
        "data_2018Q1_TOTAL=sum(data_2018Q1.AMOUNT)\n",
        "\n"
      ],
      "execution_count": 0,
      "outputs": []
    },
    {
      "metadata": {
        "id": "EgEuV1IeDbpX",
        "colab_type": "code",
        "colab": {
          "base_uri": "https://localhost:8080/",
          "height": 34
        },
        "outputId": "abdad65f-1936-4b62-fb7f-c82088640c33"
      },
      "cell_type": "code",
      "source": [
        "my_list = []\n",
        "\n",
        "my_list.append(data_2009Q3_TOTAL)\n",
        "my_list.append(data_2009Q4_TOTAL)\n",
        "my_list.append(data_2010Q1_TOTAL)\n",
        "my_list.append(data_2010Q2_TOTAL)\n",
        "my_list.append(data_2010Q3_TOTAL)\n",
        "my_list.append(data_2010Q4_TOTAL)\n",
        "my_list.append(data_2011Q1_TOTAL)\n",
        "my_list.append(data_2011Q2_TOTAL)\n",
        "my_list.append(data_2011Q3_TOTAL)\n",
        "my_list.append(data_2011Q4_TOTAL)\n",
        "my_list.append(data_2012Q1_TOTAL)\n",
        "my_list.append(data_2012Q2_TOTAL)\n",
        "my_list.append(data_2012Q3_TOTAL)\n",
        "my_list.append(data_2012Q4_TOTAL)\n",
        "my_list.append(data_2013Q1_TOTAL)\n",
        "my_list.append(data_2013Q2_TOTAL)\n",
        "my_list.append(data_2013Q3_TOTAL)\n",
        "my_list.append(data_2013Q4_TOTAL)\n",
        "my_list.append(data_2014Q1_TOTAL)\n",
        "my_list.append(data_2014Q2_TOTAL)\n",
        "my_list.append(data_2014Q3_TOTAL)\n",
        "my_list.append(data_2014Q4_TOTAL)\n",
        "my_list.append(data_2015Q1_TOTAL)\n",
        "my_list.append(data_2015Q2_TOTAL)\n",
        "my_list.append(data_2015Q3_TOTAL)\n",
        "my_list.append(data_2015Q4_TOTAL)\n",
        "my_list.append(data_2016Q1_TOTAL)\n",
        "my_list.append(data_2016Q2_TOTAL)\n",
        "my_list.append(data_2016Q3_TOTAL)\n",
        "my_list.append(data_2016Q4_TOTAL)\n",
        "my_list.append(data_2017Q1_TOTAL)\n",
        "my_list.append(data_2017Q2_TOTAL)\n",
        "my_list.append(data_2017Q3_TOTAL)\n",
        "my_list.append(data_2017Q4_TOTAL)\n",
        "my_list.append(data_2018Q1_TOTAL)\n",
        "\n",
        "\n",
        "print ( sum (my_list))"
      ],
      "execution_count": 349,
      "outputs": [
        {
          "output_type": "stream",
          "text": [
            "13660703793.310093\n"
          ],
          "name": "stdout"
        }
      ]
    },
    {
      "metadata": {
        "id": "9AxlfTU9eXwR",
        "colab_type": "code",
        "colab": {}
      },
      "cell_type": "code",
      "source": [
        "data_2009Q3_pnew=data_2009Q3.loc[ data_2009Q3[\"AMOUNT\"] > 0 ]\n",
        "data_2009Q4_pnew=data_2009Q4.loc[ data_2009Q4[\"AMOUNT\"] > 0 ]\n",
        "data_2010Q1_pnew=data_2010Q1.loc[ data_2010Q1[\"AMOUNT\"] > 0 ]\n",
        "data_2010Q2_pnew=data_2010Q2.loc[ data_2010Q2[\"AMOUNT\"] > 0 ]\n",
        "data_2010Q3_pnew=data_2010Q3.loc[ data_2010Q3[\"AMOUNT\"] > 0 ]\n",
        "data_2010Q4_pnew=data_2010Q4.loc[ data_2010Q4[\"AMOUNT\"] > 0 ]\n",
        "data_2011Q1_pnew=data_2011Q1.loc[ data_2011Q1[\"AMOUNT\"] > 0 ]\n",
        "data_2011Q2_pnew=data_2011Q2.loc[ data_2011Q2[\"AMOUNT\"] > 0 ]\n",
        "data_2011Q3_pnew=data_2011Q3.loc[ data_2011Q3[\"AMOUNT\"] > 0 ]\n",
        "data_2011Q4_pnew=data_2011Q4.loc[ data_2011Q4[\"AMOUNT\"] > 0 ]\n",
        "data_2012Q1_pnew=data_2012Q1.loc[ data_2012Q1[\"AMOUNT\"] > 0 ]\n",
        "data_2012Q2_pnew=data_2012Q2.loc[ data_2012Q2[\"AMOUNT\"] > 0 ]\n",
        "data_2012Q3_pnew=data_2012Q3.loc[ data_2012Q3[\"AMOUNT\"] > 0 ]\n",
        "data_2012Q4_pnew=data_2012Q4.loc[ data_2012Q4[\"AMOUNT\"] > 0 ]\n",
        "data_2013Q1_pnew=data_2013Q1.loc[ data_2013Q1[\"AMOUNT\"] > 0 ]\n",
        "data_2013Q2_pnew=data_2013Q2.loc[ data_2013Q2[\"AMOUNT\"] > 0 ]\n",
        "data_2013Q3_pnew=data_2013Q3.loc[ data_2013Q3[\"AMOUNT\"] > 0 ]\n",
        "data_2013Q4_pnew=data_2013Q4.loc[ data_2013Q4[\"AMOUNT\"] > 0 ]\n",
        "data_2014Q1_pnew=data_2014Q1.loc[ data_2014Q1[\"AMOUNT\"] > 0 ]\n",
        "data_2014Q2_pnew=data_2014Q2.loc[ data_2014Q2[\"AMOUNT\"] > 0 ]\n",
        "data_2014Q3_pnew=data_2014Q3.loc[ data_2014Q3[\"AMOUNT\"] > 0 ]\n",
        "data_2014Q4_pnew=data_2014Q4.loc[ data_2014Q4[\"AMOUNT\"] > 0 ]\n",
        "data_2015Q1_pnew=data_2015Q1.loc[ data_2015Q1[\"AMOUNT\"] > 0 ]\n",
        "data_2015Q2_pnew=data_2015Q2.loc[ data_2015Q2[\"AMOUNT\"] > 0 ]\n",
        "data_2015Q3_pnew=data_2015Q3.loc[ data_2015Q3[\"AMOUNT\"] > 0 ]\n",
        "data_2015Q4_pnew=data_2015Q4.loc[ data_2015Q4[\"AMOUNT\"] > 0 ]\n",
        "data_2016Q1_pnew=data_2016Q1.loc[ data_2016Q1[\"AMOUNT\"] > 0 ]\n",
        "data_2016Q2_pnew=data_2016Q2.loc[ data_2016Q2[\"AMOUNT\"] > 0 ]\n",
        "data_2016Q3_pnew=data_2016Q3.loc[ data_2016Q3[\"AMOUNT\"] > 0 ]\n",
        "data_2016Q4_pnew=data_2016Q4.loc[ data_2016Q4[\"AMOUNT\"] > 0 ]\n",
        "data_2017Q1_pnew=data_2017Q1.loc[ data_2017Q1[\"AMOUNT\"] > 0 ]\n",
        "data_2017Q2_pnew=data_2017Q2.loc[ data_2017Q2[\"AMOUNT\"] > 0 ]\n",
        "data_2017Q3_pnew=data_2017Q3.loc[ data_2017Q3[\"AMOUNT\"] > 0 ]\n",
        "data_2017Q4_pnew=data_2017Q4.loc[ data_2017Q4[\"AMOUNT\"] > 0 ]\n",
        "data_2018Q1_pnew=data_2018Q1.loc[ data_2018Q1[\"AMOUNT\"] > 0 ]\n"
      ],
      "execution_count": 0,
      "outputs": []
    },
    {
      "metadata": {
        "id": "x_IMsm934ENw",
        "colab_type": "code",
        "colab": {
          "base_uri": "https://localhost:8080/",
          "height": 119
        },
        "outputId": "658af59a-f990-4aa5-9a93-de11ead9c895"
      },
      "cell_type": "code",
      "source": [
        "dateIndex1 = data_2017Q2_pnew.loc[:,\"START_DATE\"] == '   '\n",
        "data_2017Q2_pnew.loc[dateIndex1, \"START_DATE\"] = '01/05/2017'\n",
        "dateIndex2 = data_2017Q2_pnew.loc[:,\"END_DATE\"] == '   '\n",
        "data_2017Q2_pnew.loc[dateIndex2, \"END_DATE\"] = '01/05/2017'\n",
        "\n",
        "\n",
        "\n",
        "\n",
        "dateIndex3 = data_2017Q3_pnew.loc[:,\"START_DATE\"] == '   '\n",
        "data_2017Q3_pnew.loc[dateIndex3, \"START_DATE\"] = '01/10/2017'\n",
        "dateIndex4 = data_2017Q3_pnew.loc[:,\"END_DATE\"] == '   '\n",
        "data_2017Q3_pnew.loc[dateIndex4, \"END_DATE\"] = '01/10/2017'\n",
        "\n",
        "\n",
        "\n",
        "dateIndex5 = data_2017Q4_pnew.loc[:,\"START_DATE\"] == '   '\n",
        "data_2017Q4_pnew.loc[dateIndex5, \"START_DATE\"] = '01/10/2017'\n",
        "dateIndex6 = data_2017Q4_pnew.loc[:,\"END_DATE\"] == '   '\n",
        "data_2017Q4_pnew.loc[dateIndex6, \"END_DATE\"] = '01/10/2017'\n",
        "\n",
        "\n",
        "\n",
        "dateIndex7 = data_2018Q1_pnew.loc[:,\"START_DATE\"] == '   '\n",
        "data_2018Q1_pnew.loc[dateIndex7, \"START_DATE\"] = '01/01/2018'\n",
        "dateIndex8 = data_2018Q1_pnew.loc[:,\"END_DATE\"] == '   '\n",
        "data_2018Q1_pnew.loc[dateIndex8, \"END_DATE\"] = '01/01/2018'\n"
      ],
      "execution_count": 274,
      "outputs": [
        {
          "output_type": "stream",
          "text": [
            "/usr/local/lib/python3.6/dist-packages/pandas/core/indexing.py:537: SettingWithCopyWarning: \n",
            "A value is trying to be set on a copy of a slice from a DataFrame.\n",
            "Try using .loc[row_indexer,col_indexer] = value instead\n",
            "\n",
            "See the caveats in the documentation: http://pandas.pydata.org/pandas-docs/stable/indexing.html#indexing-view-versus-copy\n",
            "  self.obj[item] = s\n"
          ],
          "name": "stderr"
        }
      ]
    },
    {
      "metadata": {
        "id": "lWkaaTqDyzmT",
        "colab_type": "code",
        "colab": {
          "base_uri": "https://localhost:8080/",
          "height": 323
        },
        "outputId": "63b357a6-a5e3-4a58-e44f-897984067383"
      },
      "cell_type": "code",
      "source": [
        "data_2009Q3_pnew[\"START_DATE\"]=pd.to_datetime(data_2009Q3_pnew[\"START_DATE\"])\n",
        "data_2009Q4_pnew[\"START_DATE\"]=pd.to_datetime(data_2009Q4_pnew[\"START_DATE\"])\n",
        "data_2010Q1_pnew[\"START_DATE\"]=pd.to_datetime(data_2010Q1_pnew[\"START_DATE\"])\n",
        "data_2010Q2_pnew[\"START_DATE\"]=pd.to_datetime(data_2010Q2_pnew[\"START_DATE\"])\n",
        "data_2010Q3_pnew[\"START_DATE\"]=pd.to_datetime(data_2010Q3_pnew[\"START_DATE\"])\n",
        "data_2010Q4_pnew[\"START_DATE\"]=pd.to_datetime(data_2010Q4_pnew[\"START_DATE\"])\n",
        "data_2011Q1_pnew[\"START_DATE\"]=pd.to_datetime(data_2011Q1_pnew[\"START_DATE\"])\n",
        "data_2011Q2_pnew[\"START_DATE\"]=pd.to_datetime(data_2011Q2_pnew[\"START_DATE\"])\n",
        "data_2011Q3_pnew[\"START_DATE\"]=pd.to_datetime(data_2011Q3_pnew[\"START_DATE\"])\n",
        "data_2011Q4_pnew[\"START_DATE\"]=pd.to_datetime(data_2011Q4_pnew[\"START_DATE\"])\n",
        "data_2012Q1_pnew[\"START_DATE\"]=pd.to_datetime(data_2012Q1_pnew[\"START_DATE\"])\n",
        "data_2012Q2_pnew[\"START_DATE\"]=pd.to_datetime(data_2012Q2_pnew[\"START_DATE\"])\n",
        "data_2012Q3_pnew[\"START_DATE\"]=pd.to_datetime(data_2012Q3_pnew[\"START_DATE\"])\n",
        "data_2012Q4_pnew[\"START_DATE\"]=pd.to_datetime(data_2012Q4_pnew[\"START_DATE\"])\n",
        "data_2013Q1_pnew[\"START_DATE\"]=pd.to_datetime(data_2013Q1_pnew[\"START_DATE\"])\n",
        "data_2013Q2_pnew[\"START_DATE\"]=pd.to_datetime(data_2013Q2_pnew[\"START_DATE\"])\n",
        "data_2013Q3_pnew[\"START_DATE\"]=pd.to_datetime(data_2013Q3_pnew[\"START_DATE\"])\n",
        "data_2013Q4_pnew[\"START_DATE\"]=pd.to_datetime(data_2013Q4_pnew[\"START_DATE\"])\n",
        "data_2014Q1_pnew[\"START_DATE\"]=pd.to_datetime(data_2014Q1_pnew[\"START_DATE\"])\n",
        "data_2014Q2_pnew[\"START_DATE\"]=pd.to_datetime(data_2014Q2_pnew[\"START_DATE\"])\n",
        "data_2014Q3_pnew[\"START_DATE\"]=pd.to_datetime(data_2014Q3_pnew[\"START_DATE\"])\n",
        "data_2014Q4_pnew[\"START_DATE\"]=pd.to_datetime(data_2014Q4_pnew[\"START_DATE\"])\n",
        "data_2015Q1_pnew[\"START_DATE\"]=pd.to_datetime(data_2015Q1_pnew[\"START_DATE\"])\n",
        "data_2015Q2_pnew[\"START_DATE\"]=pd.to_datetime(data_2015Q2_pnew[\"START_DATE\"])\n",
        "data_2015Q3_pnew[\"START_DATE\"]=pd.to_datetime(data_2015Q3_pnew[\"START_DATE\"])\n",
        "data_2015Q4_pnew[\"START_DATE\"]=pd.to_datetime(data_2015Q4_pnew[\"START_DATE\"])\n",
        "data_2016Q1_pnew[\"START_DATE\"]=pd.to_datetime(data_2016Q1_pnew[\"START_DATE\"])\n",
        "data_2016Q2_pnew[\"START_DATE\"]=pd.to_datetime(data_2016Q2_pnew[\"START_DATE\"])\n",
        "data_2016Q3_pnew[\"START_DATE\"]=pd.to_datetime(data_2016Q3_pnew[\"START_DATE\"])\n",
        "data_2016Q4_pnew[\"START_DATE\"]=pd.to_datetime(data_2016Q4_pnew[\"START_DATE\"])\n",
        "data_2017Q1_pnew[\"START_DATE\"]=pd.to_datetime(data_2017Q1_pnew[\"START_DATE\"])\n",
        "data_2017Q2_pnew[\"START_DATE\"]=pd.to_datetime(data_2017Q2_pnew[\"START_DATE\"])\n",
        "data_2017Q3_pnew[\"START_DATE\"]=pd.to_datetime(data_2017Q3_pnew[\"START_DATE\"])\n",
        "data_2017Q4_pnew[\"START_DATE\"]=pd.to_datetime(data_2017Q4_pnew[\"START_DATE\"])\n",
        "data_2018Q1_pnew[\"START_DATE\"]=pd.to_datetime(data_2018Q1_pnew[\"START_DATE\"])\n"
      ],
      "execution_count": 275,
      "outputs": [
        {
          "output_type": "stream",
          "text": [
            "/usr/local/lib/python3.6/dist-packages/ipykernel_launcher.py:1: SettingWithCopyWarning: \n",
            "A value is trying to be set on a copy of a slice from a DataFrame.\n",
            "Try using .loc[row_indexer,col_indexer] = value instead\n",
            "\n",
            "See the caveats in the documentation: http://pandas.pydata.org/pandas-docs/stable/indexing.html#indexing-view-versus-copy\n",
            "  \"\"\"Entry point for launching an IPython kernel.\n",
            "/usr/local/lib/python3.6/dist-packages/ipykernel_launcher.py:2: SettingWithCopyWarning: \n",
            "A value is trying to be set on a copy of a slice from a DataFrame.\n",
            "Try using .loc[row_indexer,col_indexer] = value instead\n",
            "\n",
            "See the caveats in the documentation: http://pandas.pydata.org/pandas-docs/stable/indexing.html#indexing-view-versus-copy\n",
            "  \n",
            "/usr/local/lib/python3.6/dist-packages/ipykernel_launcher.py:3: SettingWithCopyWarning: \n",
            "A value is trying to be set on a copy of a slice from a DataFrame.\n",
            "Try using .loc[row_indexer,col_indexer] = value instead\n",
            "\n",
            "See the caveats in the documentation: http://pandas.pydata.org/pandas-docs/stable/indexing.html#indexing-view-versus-copy\n",
            "  This is separate from the ipykernel package so we can avoid doing imports until\n"
          ],
          "name": "stderr"
        }
      ]
    },
    {
      "metadata": {
        "id": "5-XKzLwBy_qv",
        "colab_type": "code",
        "colab": {
          "base_uri": "https://localhost:8080/",
          "height": 323
        },
        "outputId": "a5162d13-803f-4746-b317-f7b0a7c994dc"
      },
      "cell_type": "code",
      "source": [
        "data_2009Q3_pnew[\"END_DATE\"]=pd.to_datetime(data_2009Q3_pnew[\"END_DATE\"])\n",
        "data_2009Q4_pnew[\"END_DATE\"]=pd.to_datetime(data_2009Q4_pnew[\"END_DATE\"])\n",
        "data_2010Q1_pnew[\"END_DATE\"]=pd.to_datetime(data_2010Q1_pnew[\"END_DATE\"])\n",
        "data_2010Q2_pnew[\"END_DATE\"]=pd.to_datetime(data_2010Q2_pnew[\"END_DATE\"])\n",
        "data_2010Q3_pnew[\"END_DATE\"]=pd.to_datetime(data_2010Q3_pnew[\"END_DATE\"])\n",
        "data_2010Q4_pnew[\"END_DATE\"]=pd.to_datetime(data_2010Q4_pnew[\"END_DATE\"])\n",
        "data_2011Q1_pnew[\"END_DATE\"]=pd.to_datetime(data_2011Q1_pnew[\"END_DATE\"])\n",
        "data_2011Q2_pnew[\"END_DATE\"]=pd.to_datetime(data_2011Q2_pnew[\"END_DATE\"])\n",
        "data_2011Q3_pnew[\"END_DATE\"]=pd.to_datetime(data_2011Q3_pnew[\"END_DATE\"])\n",
        "data_2011Q4_pnew[\"END_DATE\"]=pd.to_datetime(data_2011Q4_pnew[\"END_DATE\"])\n",
        "data_2012Q1_pnew[\"END_DATE\"]=pd.to_datetime(data_2012Q1_pnew[\"END_DATE\"])\n",
        "data_2012Q2_pnew[\"END_DATE\"]=pd.to_datetime(data_2012Q2_pnew[\"END_DATE\"])\n",
        "data_2012Q3_pnew[\"END_DATE\"]=pd.to_datetime(data_2012Q3_pnew[\"END_DATE\"])\n",
        "data_2012Q4_pnew[\"END_DATE\"]=pd.to_datetime(data_2012Q4_pnew[\"END_DATE\"])\n",
        "data_2013Q1_pnew[\"END_DATE\"]=pd.to_datetime(data_2013Q1_pnew[\"END_DATE\"])\n",
        "data_2013Q2_pnew[\"END_DATE\"]=pd.to_datetime(data_2013Q2_pnew[\"END_DATE\"])\n",
        "data_2013Q3_pnew[\"END_DATE\"]=pd.to_datetime(data_2013Q3_pnew[\"END_DATE\"])\n",
        "data_2013Q4_pnew[\"END_DATE\"]=pd.to_datetime(data_2013Q4_pnew[\"END_DATE\"])\n",
        "data_2014Q1_pnew[\"END_DATE\"]=pd.to_datetime(data_2014Q1_pnew[\"END_DATE\"])\n",
        "data_2014Q2_pnew[\"END_DATE\"]=pd.to_datetime(data_2014Q2_pnew[\"END_DATE\"])\n",
        "data_2014Q3_pnew[\"END_DATE\"]=pd.to_datetime(data_2014Q3_pnew[\"END_DATE\"])\n",
        "data_2014Q4_pnew[\"END_DATE\"]=pd.to_datetime(data_2014Q4_pnew[\"END_DATE\"])\n",
        "data_2015Q1_pnew[\"END_DATE\"]=pd.to_datetime(data_2015Q1_pnew[\"END_DATE\"])\n",
        "data_2015Q2_pnew[\"END_DATE\"]=pd.to_datetime(data_2015Q2_pnew[\"END_DATE\"])\n",
        "data_2015Q3_pnew[\"END_DATE\"]=pd.to_datetime(data_2015Q3_pnew[\"END_DATE\"])\n",
        "data_2015Q4_pnew[\"END_DATE\"]=pd.to_datetime(data_2015Q4_pnew[\"END_DATE\"])\n",
        "data_2016Q1_pnew[\"END_DATE\"]=pd.to_datetime(data_2016Q1_pnew[\"END_DATE\"])\n",
        "data_2016Q2_pnew[\"END_DATE\"]=pd.to_datetime(data_2016Q2_pnew[\"END_DATE\"])\n",
        "data_2016Q3_pnew[\"END_DATE\"]=pd.to_datetime(data_2016Q3_pnew[\"END_DATE\"])\n",
        "data_2016Q4_pnew[\"END_DATE\"]=pd.to_datetime(data_2016Q4_pnew[\"END_DATE\"])\n",
        "data_2017Q1_pnew[\"END_DATE\"]=pd.to_datetime(data_2017Q1_pnew[\"END_DATE\"])\n",
        "data_2017Q2_pnew[\"END_DATE\"]=pd.to_datetime(data_2017Q2_pnew[\"END_DATE\"])\n",
        "data_2017Q3_pnew[\"END_DATE\"]=pd.to_datetime(data_2017Q3_pnew[\"END_DATE\"])\n",
        "data_2017Q4_pnew[\"END_DATE\"]=pd.to_datetime(data_2017Q4_pnew[\"END_DATE\"])\n",
        "data_2018Q1_pnew[\"END_DATE\"]=pd.to_datetime(data_2018Q1_pnew[\"END_DATE\"])\n",
        "\n"
      ],
      "execution_count": 276,
      "outputs": [
        {
          "output_type": "stream",
          "text": [
            "/usr/local/lib/python3.6/dist-packages/ipykernel_launcher.py:1: SettingWithCopyWarning: \n",
            "A value is trying to be set on a copy of a slice from a DataFrame.\n",
            "Try using .loc[row_indexer,col_indexer] = value instead\n",
            "\n",
            "See the caveats in the documentation: http://pandas.pydata.org/pandas-docs/stable/indexing.html#indexing-view-versus-copy\n",
            "  \"\"\"Entry point for launching an IPython kernel.\n",
            "/usr/local/lib/python3.6/dist-packages/ipykernel_launcher.py:2: SettingWithCopyWarning: \n",
            "A value is trying to be set on a copy of a slice from a DataFrame.\n",
            "Try using .loc[row_indexer,col_indexer] = value instead\n",
            "\n",
            "See the caveats in the documentation: http://pandas.pydata.org/pandas-docs/stable/indexing.html#indexing-view-versus-copy\n",
            "  \n",
            "/usr/local/lib/python3.6/dist-packages/ipykernel_launcher.py:3: SettingWithCopyWarning: \n",
            "A value is trying to be set on a copy of a slice from a DataFrame.\n",
            "Try using .loc[row_indexer,col_indexer] = value instead\n",
            "\n",
            "See the caveats in the documentation: http://pandas.pydata.org/pandas-docs/stable/indexing.html#indexing-view-versus-copy\n",
            "  This is separate from the ipykernel package so we can avoid doing imports until\n"
          ],
          "name": "stderr"
        }
      ]
    },
    {
      "metadata": {
        "id": "5dC_hO9p97tB",
        "colab_type": "code",
        "colab": {
          "base_uri": "https://localhost:8080/",
          "height": 221
        },
        "outputId": "2f38faf5-1c91-4a6d-a85e-004b6b1b4858"
      },
      "cell_type": "code",
      "source": [
        "data_2009Q3_pnew.loc[:,\"NEW_START_DATE\"]=data_2009Q3_pnew.loc[:,\"START_DATE\"].dt.date\n",
        "data_2009Q4_pnew.loc[:,\"NEW_START_DATE\"]=data_2009Q4_pnew.loc[:,\"START_DATE\"].dt.date\n",
        "data_2010Q1_pnew.loc[:,\"NEW_START_DATE\"]=data_2010Q1_pnew.loc[:,\"START_DATE\"].dt.date\n",
        "data_2010Q2_pnew.loc[:,\"NEW_START_DATE\"]=data_2010Q2_pnew.loc[:,\"START_DATE\"].dt.date\n",
        "data_2010Q3_pnew.loc[:,\"NEW_START_DATE\"]=data_2010Q3_pnew.loc[:,\"START_DATE\"].dt.date\n",
        "data_2010Q4_pnew.loc[:,\"NEW_START_DATE\"]=data_2010Q4_pnew.loc[:,\"START_DATE\"].dt.date\n",
        "data_2011Q1_pnew.loc[:,\"NEW_START_DATE\"]=data_2011Q1_pnew.loc[:,\"START_DATE\"].dt.date\n",
        "data_2011Q2_pnew.loc[:,\"NEW_START_DATE\"]=data_2011Q2_pnew.loc[:,\"START_DATE\"].dt.date\n",
        "data_2011Q3_pnew.loc[:,\"NEW_START_DATE\"]=data_2011Q3_pnew.loc[:,\"START_DATE\"].dt.date\n",
        "data_2011Q4_pnew.loc[:,\"NEW_START_DATE\"]=data_2011Q4_pnew.loc[:,\"START_DATE\"].dt.date\n",
        "data_2012Q1_pnew.loc[:,\"NEW_START_DATE\"]=data_2012Q1_pnew.loc[:,\"START_DATE\"].dt.date\n",
        "data_2012Q2_pnew.loc[:,\"NEW_START_DATE\"]=data_2012Q2_pnew.loc[:,\"START_DATE\"].dt.date\n",
        "data_2012Q3_pnew.loc[:,\"NEW_START_DATE\"]=data_2012Q3_pnew.loc[:,\"START_DATE\"].dt.date\n",
        "data_2012Q4_pnew.loc[:,\"NEW_START_DATE\"]=data_2012Q4_pnew.loc[:,\"START_DATE\"].dt.date\n",
        "data_2013Q1_pnew.loc[:,\"NEW_START_DATE\"]=data_2013Q1_pnew.loc[:,\"START_DATE\"].dt.date\n",
        "data_2013Q2_pnew.loc[:,\"NEW_START_DATE\"]=data_2013Q2_pnew.loc[:,\"START_DATE\"].dt.date\n",
        "data_2013Q3_pnew.loc[:,\"NEW_START_DATE\"]=data_2013Q3_pnew.loc[:,\"START_DATE\"].dt.date\n",
        "data_2013Q4_pnew.loc[:,\"NEW_START_DATE\"]=data_2013Q4_pnew.loc[:,\"START_DATE\"].dt.date\n",
        "data_2014Q1_pnew.loc[:,\"NEW_START_DATE\"]=data_2014Q1_pnew.loc[:,\"START_DATE\"].dt.date\n",
        "data_2014Q2_pnew.loc[:,\"NEW_START_DATE\"]=data_2014Q2_pnew.loc[:,\"START_DATE\"].dt.date\n",
        "data_2014Q3_pnew.loc[:,\"NEW_START_DATE\"]=data_2014Q3_pnew.loc[:,\"START_DATE\"].dt.date\n",
        "data_2014Q4_pnew.loc[:,\"NEW_START_DATE\"]=data_2014Q4_pnew.loc[:,\"START_DATE\"].dt.date\n",
        "data_2015Q1_pnew.loc[:,\"NEW_START_DATE\"]=data_2015Q1_pnew.loc[:,\"START_DATE\"].dt.date\n",
        "data_2015Q2_pnew.loc[:,\"NEW_START_DATE\"]=data_2015Q2_pnew.loc[:,\"START_DATE\"].dt.date\n",
        "data_2015Q3_pnew.loc[:,\"NEW_START_DATE\"]=data_2015Q3_pnew.loc[:,\"START_DATE\"].dt.date\n",
        "data_2015Q4_pnew.loc[:,\"NEW_START_DATE\"]=data_2015Q4_pnew.loc[:,\"START_DATE\"].dt.date\n",
        "data_2016Q1_pnew.loc[:,\"NEW_START_DATE\"]=data_2016Q1_pnew.loc[:,\"START_DATE\"].dt.date\n",
        "data_2016Q2_pnew.loc[:,\"NEW_START_DATE\"]=data_2016Q2_pnew.loc[:,\"START_DATE\"].dt.date\n",
        "data_2016Q3_pnew.loc[:,\"NEW_START_DATE\"]=data_2016Q3_pnew.loc[:,\"START_DATE\"].dt.date\n",
        "data_2016Q4_pnew.loc[:,\"NEW_START_DATE\"]=data_2016Q4_pnew.loc[:,\"START_DATE\"].dt.date\n",
        "data_2017Q1_pnew.loc[:,\"NEW_START_DATE\"]=data_2017Q1_pnew.loc[:,\"START_DATE\"].dt.date\n",
        "data_2017Q2_pnew.loc[:,\"NEW_START_DATE\"]=data_2017Q2_pnew.loc[:,\"START_DATE\"].dt.date\n",
        "data_2017Q3_pnew.loc[:,\"NEW_START_DATE\"]=data_2017Q3_pnew.loc[:,\"START_DATE\"].dt.date\n",
        "data_2017Q4_pnew.loc[:,\"NEW_START_DATE\"]=data_2017Q4_pnew.loc[:,\"START_DATE\"].dt.date\n",
        "data_2018Q1_pnew.loc[:,\"NEW_START_DATE\"]=data_2018Q1_pnew.loc[:,\"START_DATE\"].dt.date\n"
      ],
      "execution_count": 277,
      "outputs": [
        {
          "output_type": "stream",
          "text": [
            "/usr/local/lib/python3.6/dist-packages/pandas/core/indexing.py:357: SettingWithCopyWarning: \n",
            "A value is trying to be set on a copy of a slice from a DataFrame.\n",
            "Try using .loc[row_indexer,col_indexer] = value instead\n",
            "\n",
            "See the caveats in the documentation: http://pandas.pydata.org/pandas-docs/stable/indexing.html#indexing-view-versus-copy\n",
            "  self.obj[key] = _infer_fill_value(value)\n",
            "/usr/local/lib/python3.6/dist-packages/pandas/core/indexing.py:537: SettingWithCopyWarning: \n",
            "A value is trying to be set on a copy of a slice from a DataFrame.\n",
            "Try using .loc[row_indexer,col_indexer] = value instead\n",
            "\n",
            "See the caveats in the documentation: http://pandas.pydata.org/pandas-docs/stable/indexing.html#indexing-view-versus-copy\n",
            "  self.obj[item] = s\n"
          ],
          "name": "stderr"
        }
      ]
    },
    {
      "metadata": {
        "id": "s-o3LYmdAyhw",
        "colab_type": "code",
        "colab": {
          "base_uri": "https://localhost:8080/",
          "height": 221
        },
        "outputId": "b85e1328-d2fa-448e-8335-ff9631bfbac7"
      },
      "cell_type": "code",
      "source": [
        "data_2009Q3_pnew.loc[:,\"NEW_END_DATE\"]=data_2009Q3_pnew.loc[:,\"END_DATE\"].dt.date\n",
        "data_2009Q4_pnew.loc[:,\"NEW_END_DATE\"]=data_2009Q4_pnew.loc[:,\"END_DATE\"].dt.date\n",
        "data_2010Q1_pnew.loc[:,\"NEW_END_DATE\"]=data_2010Q1_pnew.loc[:,\"END_DATE\"].dt.date\n",
        "data_2010Q2_pnew.loc[:,\"NEW_END_DATE\"]=data_2010Q2_pnew.loc[:,\"END_DATE\"].dt.date\n",
        "data_2010Q3_pnew.loc[:,\"NEW_END_DATE\"]=data_2010Q3_pnew.loc[:,\"END_DATE\"].dt.date\n",
        "data_2010Q4_pnew.loc[:,\"NEW_END_DATE\"]=data_2010Q4_pnew.loc[:,\"END_DATE\"].dt.date\n",
        "data_2011Q1_pnew.loc[:,\"NEW_END_DATE\"]=data_2011Q1_pnew.loc[:,\"END_DATE\"].dt.date\n",
        "data_2011Q2_pnew.loc[:,\"NEW_END_DATE\"]=data_2011Q2_pnew.loc[:,\"END_DATE\"].dt.date\n",
        "data_2011Q3_pnew.loc[:,\"NEW_END_DATE\"]=data_2011Q3_pnew.loc[:,\"END_DATE\"].dt.date\n",
        "data_2011Q4_pnew.loc[:,\"NEW_END_DATE\"]=data_2011Q4_pnew.loc[:,\"END_DATE\"].dt.date\n",
        "data_2012Q1_pnew.loc[:,\"NEW_END_DATE\"]=data_2012Q1_pnew.loc[:,\"END_DATE\"].dt.date\n",
        "data_2012Q2_pnew.loc[:,\"NEW_END_DATE\"]=data_2012Q2_pnew.loc[:,\"END_DATE\"].dt.date\n",
        "data_2012Q3_pnew.loc[:,\"NEW_END_DATE\"]=data_2012Q3_pnew.loc[:,\"END_DATE\"].dt.date\n",
        "data_2012Q4_pnew.loc[:,\"NEW_END_DATE\"]=data_2012Q4_pnew.loc[:,\"END_DATE\"].dt.date\n",
        "data_2013Q1_pnew.loc[:,\"NEW_END_DATE\"]=data_2013Q1_pnew.loc[:,\"END_DATE\"].dt.date\n",
        "data_2013Q2_pnew.loc[:,\"NEW_END_DATE\"]=data_2013Q2_pnew.loc[:,\"END_DATE\"].dt.date\n",
        "data_2013Q3_pnew.loc[:,\"NEW_END_DATE\"]=data_2013Q3_pnew.loc[:,\"END_DATE\"].dt.date\n",
        "data_2013Q4_pnew.loc[:,\"NEW_END_DATE\"]=data_2013Q4_pnew.loc[:,\"END_DATE\"].dt.date\n",
        "data_2014Q1_pnew.loc[:,\"NEW_END_DATE\"]=data_2014Q1_pnew.loc[:,\"END_DATE\"].dt.date\n",
        "data_2014Q2_pnew.loc[:,\"NEW_END_DATE\"]=data_2014Q2_pnew.loc[:,\"END_DATE\"].dt.date\n",
        "data_2014Q3_pnew.loc[:,\"NEW_END_DATE\"]=data_2014Q3_pnew.loc[:,\"END_DATE\"].dt.date\n",
        "data_2014Q4_pnew.loc[:,\"NEW_END_DATE\"]=data_2014Q4_pnew.loc[:,\"END_DATE\"].dt.date\n",
        "data_2015Q1_pnew.loc[:,\"NEW_END_DATE\"]=data_2015Q1_pnew.loc[:,\"END_DATE\"].dt.date\n",
        "data_2015Q2_pnew.loc[:,\"NEW_END_DATE\"]=data_2015Q2_pnew.loc[:,\"END_DATE\"].dt.date\n",
        "data_2015Q3_pnew.loc[:,\"NEW_END_DATE\"]=data_2015Q3_pnew.loc[:,\"END_DATE\"].dt.date\n",
        "data_2015Q4_pnew.loc[:,\"NEW_END_DATE\"]=data_2015Q4_pnew.loc[:,\"END_DATE\"].dt.date\n",
        "data_2016Q1_pnew.loc[:,\"NEW_END_DATE\"]=data_2016Q1_pnew.loc[:,\"END_DATE\"].dt.date\n",
        "data_2016Q2_pnew.loc[:,\"NEW_END_DATE\"]=data_2016Q2_pnew.loc[:,\"END_DATE\"].dt.date\n",
        "data_2016Q3_pnew.loc[:,\"NEW_END_DATE\"]=data_2016Q3_pnew.loc[:,\"END_DATE\"].dt.date\n",
        "data_2016Q4_pnew.loc[:,\"NEW_END_DATE\"]=data_2016Q4_pnew.loc[:,\"END_DATE\"].dt.date\n",
        "data_2017Q1_pnew.loc[:,\"NEW_END_DATE\"]=data_2017Q1_pnew.loc[:,\"END_DATE\"].dt.date\n",
        "data_2017Q2_pnew.loc[:,\"NEW_END_DATE\"]=data_2017Q2_pnew.loc[:,\"END_DATE\"].dt.date\n",
        "data_2017Q3_pnew.loc[:,\"NEW_END_DATE\"]=data_2017Q3_pnew.loc[:,\"END_DATE\"].dt.date\n",
        "data_2017Q4_pnew.loc[:,\"NEW_END_DATE\"]=data_2017Q4_pnew.loc[:,\"END_DATE\"].dt.date\n",
        "data_2018Q1_pnew.loc[:,\"NEW_END_DATE\"]=data_2018Q1_pnew.loc[:,\"END_DATE\"].dt.date\n"
      ],
      "execution_count": 278,
      "outputs": [
        {
          "output_type": "stream",
          "text": [
            "/usr/local/lib/python3.6/dist-packages/pandas/core/indexing.py:357: SettingWithCopyWarning: \n",
            "A value is trying to be set on a copy of a slice from a DataFrame.\n",
            "Try using .loc[row_indexer,col_indexer] = value instead\n",
            "\n",
            "See the caveats in the documentation: http://pandas.pydata.org/pandas-docs/stable/indexing.html#indexing-view-versus-copy\n",
            "  self.obj[key] = _infer_fill_value(value)\n",
            "/usr/local/lib/python3.6/dist-packages/pandas/core/indexing.py:537: SettingWithCopyWarning: \n",
            "A value is trying to be set on a copy of a slice from a DataFrame.\n",
            "Try using .loc[row_indexer,col_indexer] = value instead\n",
            "\n",
            "See the caveats in the documentation: http://pandas.pydata.org/pandas-docs/stable/indexing.html#indexing-view-versus-copy\n",
            "  self.obj[item] = s\n"
          ],
          "name": "stderr"
        }
      ]
    },
    {
      "metadata": {
        "id": "hRSaWHQ8BZhS",
        "colab_type": "code",
        "colab": {
          "base_uri": "https://localhost:8080/",
          "height": 119
        },
        "outputId": "3f27f646-d66d-4bbe-d42e-fbfd9fc9921f"
      },
      "cell_type": "code",
      "source": [
        "data_2009Q3_pnew.loc[:,\"DIFF_DATE\"]=data_2009Q3_pnew.loc[:,\"NEW_START_DATE\"]-data_2009Q3_pnew.loc[:,\"NEW_END_DATE\"]\n",
        "data_2009Q4_pnew.loc[:,\"DIFF_DATE\"]=data_2009Q4_pnew.loc[:,\"NEW_START_DATE\"]-data_2009Q4_pnew.loc[:,\"NEW_END_DATE\"]\n",
        "data_2010Q1_pnew.loc[:,\"DIFF_DATE\"]=data_2010Q1_pnew.loc[:,\"NEW_START_DATE\"]-data_2010Q1_pnew.loc[:,\"NEW_END_DATE\"]\n",
        "data_2010Q2_pnew.loc[:,\"DIFF_DATE\"]=data_2010Q2_pnew.loc[:,\"NEW_START_DATE\"]-data_2010Q2_pnew.loc[:,\"NEW_END_DATE\"]\n",
        "data_2010Q3_pnew.loc[:,\"DIFF_DATE\"]=data_2010Q3_pnew.loc[:,\"NEW_START_DATE\"]-data_2010Q3_pnew.loc[:,\"NEW_END_DATE\"]\n",
        "data_2010Q4_pnew.loc[:,\"DIFF_DATE\"]=data_2010Q4_pnew.loc[:,\"NEW_START_DATE\"]-data_2010Q4_pnew.loc[:,\"NEW_END_DATE\"]\n",
        "data_2011Q1_pnew.loc[:,\"DIFF_DATE\"]=data_2011Q1_pnew.loc[:,\"NEW_START_DATE\"]-data_2011Q1_pnew.loc[:,\"NEW_END_DATE\"]\n",
        "data_2011Q2_pnew.loc[:,\"DIFF_DATE\"]=data_2011Q2_pnew.loc[:,\"NEW_START_DATE\"]-data_2011Q2_pnew.loc[:,\"NEW_END_DATE\"]\n",
        "data_2011Q3_pnew.loc[:,\"DIFF_DATE\"]=data_2011Q3_pnew.loc[:,\"NEW_START_DATE\"]-data_2011Q3_pnew.loc[:,\"NEW_END_DATE\"]\n",
        "data_2011Q4_pnew.loc[:,\"DIFF_DATE\"]=data_2011Q4_pnew.loc[:,\"NEW_START_DATE\"]-data_2011Q4_pnew.loc[:,\"NEW_END_DATE\"]\n",
        "data_2012Q1_pnew.loc[:,\"DIFF_DATE\"]=data_2012Q1_pnew.loc[:,\"NEW_START_DATE\"]-data_2012Q1_pnew.loc[:,\"NEW_END_DATE\"]\n",
        "data_2012Q2_pnew.loc[:,\"DIFF_DATE\"]=data_2012Q2_pnew.loc[:,\"NEW_START_DATE\"]-data_2012Q2_pnew.loc[:,\"NEW_END_DATE\"]\n",
        "data_2012Q3_pnew.loc[:,\"DIFF_DATE\"]=data_2012Q3_pnew.loc[:,\"NEW_START_DATE\"]-data_2012Q3_pnew.loc[:,\"NEW_END_DATE\"]\n",
        "data_2012Q4_pnew.loc[:,\"DIFF_DATE\"]=data_2012Q4_pnew.loc[:,\"NEW_START_DATE\"]-data_2012Q4_pnew.loc[:,\"NEW_END_DATE\"]\n",
        "data_2013Q1_pnew.loc[:,\"DIFF_DATE\"]=data_2013Q1_pnew.loc[:,\"NEW_START_DATE\"]-data_2013Q1_pnew.loc[:,\"NEW_END_DATE\"]\n",
        "data_2013Q2_pnew.loc[:,\"DIFF_DATE\"]=data_2013Q2_pnew.loc[:,\"NEW_START_DATE\"]-data_2013Q2_pnew.loc[:,\"NEW_END_DATE\"]\n",
        "data_2013Q3_pnew.loc[:,\"DIFF_DATE\"]=data_2013Q3_pnew.loc[:,\"NEW_START_DATE\"]-data_2013Q3_pnew.loc[:,\"NEW_END_DATE\"]\n",
        "data_2013Q4_pnew.loc[:,\"DIFF_DATE\"]=data_2013Q4_pnew.loc[:,\"NEW_START_DATE\"]-data_2013Q4_pnew.loc[:,\"NEW_END_DATE\"]\n",
        "data_2014Q1_pnew.loc[:,\"DIFF_DATE\"]=data_2014Q1_pnew.loc[:,\"NEW_START_DATE\"]-data_2014Q1_pnew.loc[:,\"NEW_END_DATE\"]\n",
        "data_2014Q2_pnew.loc[:,\"DIFF_DATE\"]=data_2014Q2_pnew.loc[:,\"NEW_START_DATE\"]-data_2014Q2_pnew.loc[:,\"NEW_END_DATE\"]\n",
        "data_2014Q3_pnew.loc[:,\"DIFF_DATE\"]=data_2014Q3_pnew.loc[:,\"NEW_START_DATE\"]-data_2014Q3_pnew.loc[:,\"NEW_END_DATE\"]\n",
        "data_2014Q4_pnew.loc[:,\"DIFF_DATE\"]=data_2014Q4_pnew.loc[:,\"NEW_START_DATE\"]-data_2014Q4_pnew.loc[:,\"NEW_END_DATE\"]\n",
        "data_2015Q1_pnew.loc[:,\"DIFF_DATE\"]=data_2015Q1_pnew.loc[:,\"NEW_START_DATE\"]-data_2015Q1_pnew.loc[:,\"NEW_END_DATE\"]\n",
        "data_2015Q2_pnew.loc[:,\"DIFF_DATE\"]=data_2015Q2_pnew.loc[:,\"NEW_START_DATE\"]-data_2015Q2_pnew.loc[:,\"NEW_END_DATE\"]\n",
        "data_2015Q3_pnew.loc[:,\"DIFF_DATE\"]=data_2015Q3_pnew.loc[:,\"NEW_START_DATE\"]-data_2015Q3_pnew.loc[:,\"NEW_END_DATE\"]\n",
        "data_2015Q4_pnew.loc[:,\"DIFF_DATE\"]=data_2015Q4_pnew.loc[:,\"NEW_START_DATE\"]-data_2015Q4_pnew.loc[:,\"NEW_END_DATE\"]\n",
        "data_2016Q1_pnew.loc[:,\"DIFF_DATE\"]=data_2016Q1_pnew.loc[:,\"NEW_START_DATE\"]-data_2016Q1_pnew.loc[:,\"NEW_END_DATE\"]\n",
        "data_2016Q2_pnew.loc[:,\"DIFF_DATE\"]=data_2016Q2_pnew.loc[:,\"NEW_START_DATE\"]-data_2016Q2_pnew.loc[:,\"NEW_END_DATE\"]\n",
        "data_2016Q3_pnew.loc[:,\"DIFF_DATE\"]=data_2016Q3_pnew.loc[:,\"NEW_START_DATE\"]-data_2016Q3_pnew.loc[:,\"NEW_END_DATE\"]\n",
        "data_2016Q4_pnew.loc[:,\"DIFF_DATE\"]=data_2016Q4_pnew.loc[:,\"NEW_START_DATE\"]-data_2016Q4_pnew.loc[:,\"NEW_END_DATE\"]\n",
        "data_2017Q1_pnew.loc[:,\"DIFF_DATE\"]=data_2017Q1_pnew.loc[:,\"NEW_START_DATE\"]-data_2017Q1_pnew.loc[:,\"NEW_END_DATE\"]\n",
        "data_2017Q2_pnew.loc[:,\"DIFF_DATE\"]=data_2017Q2_pnew.loc[:,\"NEW_START_DATE\"]-data_2017Q2_pnew.loc[:,\"NEW_END_DATE\"]\n",
        "data_2017Q3_pnew.loc[:,\"DIFF_DATE\"]=data_2017Q3_pnew.loc[:,\"NEW_START_DATE\"]-data_2017Q3_pnew.loc[:,\"NEW_END_DATE\"]\n",
        "data_2017Q4_pnew.loc[:,\"DIFF_DATE\"]=data_2017Q4_pnew.loc[:,\"NEW_START_DATE\"]-data_2017Q4_pnew.loc[:,\"NEW_END_DATE\"]\n",
        "data_2018Q1_pnew.loc[:,\"DIFF_DATE\"]=data_2018Q1_pnew.loc[:,\"NEW_START_DATE\"]-data_2018Q1_pnew.loc[:,\"NEW_END_DATE\"]\n"
      ],
      "execution_count": 307,
      "outputs": [
        {
          "output_type": "stream",
          "text": [
            "/usr/local/lib/python3.6/dist-packages/pandas/core/indexing.py:537: SettingWithCopyWarning: \n",
            "A value is trying to be set on a copy of a slice from a DataFrame.\n",
            "Try using .loc[row_indexer,col_indexer] = value instead\n",
            "\n",
            "See the caveats in the documentation: http://pandas.pydata.org/pandas-docs/stable/indexing.html#indexing-view-versus-copy\n",
            "  self.obj[item] = s\n"
          ],
          "name": "stderr"
        }
      ]
    },
    {
      "metadata": {
        "id": "rSGxVI18EaXA",
        "colab_type": "code",
        "colab": {
          "base_uri": "https://localhost:8080/",
          "height": 221
        },
        "outputId": "92f53776-cbe4-4a58-b01a-c9e9706c3394"
      },
      "cell_type": "code",
      "source": [
        "data_2009Q3_pnew.loc[:,\"COVERAGE_PERIOD\"]=data_2009Q3_pnew.loc[:,\"DIFF_DATE\"].dt.days\n",
        "data_2009Q4_pnew.loc[:,\"COVERAGE_PERIOD\"]=data_2009Q4_pnew.loc[:,\"DIFF_DATE\"].dt.days\n",
        "data_2010Q1_pnew.loc[:,\"COVERAGE_PERIOD\"]=data_2010Q1_pnew.loc[:,\"DIFF_DATE\"].dt.days\n",
        "data_2010Q2_pnew.loc[:,\"COVERAGE_PERIOD\"]=data_2010Q2_pnew.loc[:,\"DIFF_DATE\"].dt.days\n",
        "data_2010Q3_pnew.loc[:,\"COVERAGE_PERIOD\"]=data_2010Q3_pnew.loc[:,\"DIFF_DATE\"].dt.days\n",
        "data_2010Q4_pnew.loc[:,\"COVERAGE_PERIOD\"]=data_2010Q4_pnew.loc[:,\"DIFF_DATE\"].dt.days\n",
        "data_2011Q1_pnew.loc[:,\"COVERAGE_PERIOD\"]=data_2011Q1_pnew.loc[:,\"DIFF_DATE\"].dt.days\n",
        "data_2011Q2_pnew.loc[:,\"COVERAGE_PERIOD\"]=data_2011Q2_pnew.loc[:,\"DIFF_DATE\"].dt.days\n",
        "data_2011Q3_pnew.loc[:,\"COVERAGE_PERIOD\"]=data_2011Q3_pnew.loc[:,\"DIFF_DATE\"].dt.days\n",
        "data_2011Q4_pnew.loc[:,\"COVERAGE_PERIOD\"]=data_2011Q4_pnew.loc[:,\"DIFF_DATE\"].dt.days\n",
        "data_2012Q1_pnew.loc[:,\"COVERAGE_PERIOD\"]=data_2012Q1_pnew.loc[:,\"DIFF_DATE\"].dt.days\n",
        "data_2012Q2_pnew.loc[:,\"COVERAGE_PERIOD\"]=data_2012Q2_pnew.loc[:,\"DIFF_DATE\"].dt.days\n",
        "data_2012Q3_pnew.loc[:,\"COVERAGE_PERIOD\"]=data_2012Q3_pnew.loc[:,\"DIFF_DATE\"].dt.days\n",
        "data_2012Q4_pnew.loc[:,\"COVERAGE_PERIOD\"]=data_2012Q4_pnew.loc[:,\"DIFF_DATE\"].dt.days\n",
        "data_2013Q1_pnew.loc[:,\"COVERAGE_PERIOD\"]=data_2013Q1_pnew.loc[:,\"DIFF_DATE\"].dt.days\n",
        "data_2013Q2_pnew.loc[:,\"COVERAGE_PERIOD\"]=data_2013Q2_pnew.loc[:,\"DIFF_DATE\"].dt.days\n",
        "data_2013Q3_pnew.loc[:,\"COVERAGE_PERIOD\"]=data_2013Q3_pnew.loc[:,\"DIFF_DATE\"].dt.days\n",
        "data_2013Q4_pnew.loc[:,\"COVERAGE_PERIOD\"]=data_2013Q4_pnew.loc[:,\"DIFF_DATE\"].dt.days\n",
        "data_2014Q1_pnew.loc[:,\"COVERAGE_PERIOD\"]=data_2014Q1_pnew.loc[:,\"DIFF_DATE\"].dt.days\n",
        "data_2014Q2_pnew.loc[:,\"COVERAGE_PERIOD\"]=data_2014Q2_pnew.loc[:,\"DIFF_DATE\"].dt.days\n",
        "data_2014Q3_pnew.loc[:,\"COVERAGE_PERIOD\"]=data_2014Q3_pnew.loc[:,\"DIFF_DATE\"].dt.days\n",
        "data_2014Q4_pnew.loc[:,\"COVERAGE_PERIOD\"]=data_2014Q4_pnew.loc[:,\"DIFF_DATE\"].dt.days\n",
        "data_2015Q1_pnew.loc[:,\"COVERAGE_PERIOD\"]=data_2015Q1_pnew.loc[:,\"DIFF_DATE\"].dt.days\n",
        "data_2015Q2_pnew.loc[:,\"COVERAGE_PERIOD\"]=data_2015Q2_pnew.loc[:,\"DIFF_DATE\"].dt.days\n",
        "data_2015Q3_pnew.loc[:,\"COVERAGE_PERIOD\"]=data_2015Q3_pnew.loc[:,\"DIFF_DATE\"].dt.days\n",
        "data_2015Q4_pnew.loc[:,\"COVERAGE_PERIOD\"]=data_2015Q4_pnew.loc[:,\"DIFF_DATE\"].dt.days\n",
        "data_2016Q1_pnew.loc[:,\"COVERAGE_PERIOD\"]=data_2016Q1_pnew.loc[:,\"DIFF_DATE\"].dt.days\n",
        "data_2016Q2_pnew.loc[:,\"COVERAGE_PERIOD\"]=data_2016Q2_pnew.loc[:,\"DIFF_DATE\"].dt.days\n",
        "data_2016Q3_pnew.loc[:,\"COVERAGE_PERIOD\"]=data_2016Q3_pnew.loc[:,\"DIFF_DATE\"].dt.days\n",
        "data_2016Q4_pnew.loc[:,\"COVERAGE_PERIOD\"]=data_2016Q4_pnew.loc[:,\"DIFF_DATE\"].dt.days\n",
        "data_2017Q1_pnew.loc[:,\"COVERAGE_PERIOD\"]=data_2017Q1_pnew.loc[:,\"DIFF_DATE\"].dt.days\n",
        "data_2017Q2_pnew.loc[:,\"COVERAGE_PERIOD\"]=data_2017Q2_pnew.loc[:,\"DIFF_DATE\"].dt.days\n",
        "data_2017Q3_pnew.loc[:,\"COVERAGE_PERIOD\"]=data_2017Q3_pnew.loc[:,\"DIFF_DATE\"].dt.days\n",
        "data_2017Q4_pnew.loc[:,\"COVERAGE_PERIOD\"]=data_2017Q4_pnew.loc[:,\"DIFF_DATE\"].dt.days\n",
        "data_2018Q1_pnew.loc[:,\"COVERAGE_PERIOD\"]=data_2018Q1_pnew.loc[:,\"DIFF_DATE\"].dt.days"
      ],
      "execution_count": 308,
      "outputs": [
        {
          "output_type": "stream",
          "text": [
            "/usr/local/lib/python3.6/dist-packages/pandas/core/indexing.py:357: SettingWithCopyWarning: \n",
            "A value is trying to be set on a copy of a slice from a DataFrame.\n",
            "Try using .loc[row_indexer,col_indexer] = value instead\n",
            "\n",
            "See the caveats in the documentation: http://pandas.pydata.org/pandas-docs/stable/indexing.html#indexing-view-versus-copy\n",
            "  self.obj[key] = _infer_fill_value(value)\n",
            "/usr/local/lib/python3.6/dist-packages/pandas/core/indexing.py:537: SettingWithCopyWarning: \n",
            "A value is trying to be set on a copy of a slice from a DataFrame.\n",
            "Try using .loc[row_indexer,col_indexer] = value instead\n",
            "\n",
            "See the caveats in the documentation: http://pandas.pydata.org/pandas-docs/stable/indexing.html#indexing-view-versus-copy\n",
            "  self.obj[item] = s\n"
          ],
          "name": "stderr"
        }
      ]
    },
    {
      "metadata": {
        "id": "l2bmJ5L1HNcn",
        "colab_type": "code",
        "colab": {}
      },
      "cell_type": "code",
      "source": [
        "cp1=data_2009Q3_pnew.COVERAGE_PERIOD\n",
        "cp2=data_2009Q4_pnew.COVERAGE_PERIOD\n",
        "cp3=data_2010Q1_pnew.COVERAGE_PERIOD\n",
        "cp4=data_2010Q2_pnew.COVERAGE_PERIOD\n",
        "cp5=data_2010Q3_pnew.COVERAGE_PERIOD\n",
        "cp6=data_2010Q4_pnew.COVERAGE_PERIOD\n",
        "cp7=data_2011Q1_pnew.COVERAGE_PERIOD\n",
        "cp8=data_2011Q2_pnew.COVERAGE_PERIOD\n",
        "cp9=data_2011Q3_pnew.COVERAGE_PERIOD\n",
        "cp10=data_2011Q4_pnew.COVERAGE_PERIOD\n",
        "cp11=data_2012Q1_pnew.COVERAGE_PERIOD\n",
        "cp12=data_2012Q2_pnew.COVERAGE_PERIOD\n",
        "cp13=data_2012Q3_pnew.COVERAGE_PERIOD\n",
        "cp14=data_2012Q4_pnew.COVERAGE_PERIOD\n",
        "cp15=data_2013Q1_pnew.COVERAGE_PERIOD\n",
        "cp16=data_2013Q2_pnew.COVERAGE_PERIOD\n",
        "cp17=data_2013Q3_pnew.COVERAGE_PERIOD\n",
        "cp18=data_2013Q4_pnew.COVERAGE_PERIOD\n",
        "cp19=data_2014Q1_pnew.COVERAGE_PERIOD\n",
        "cp20=data_2014Q2_pnew.COVERAGE_PERIOD\n",
        "cp21=data_2014Q3_pnew.COVERAGE_PERIOD\n",
        "cp22=data_2014Q4_pnew.COVERAGE_PERIOD\n",
        "cp23=data_2015Q1_pnew.COVERAGE_PERIOD\n",
        "cp24=data_2015Q2_pnew.COVERAGE_PERIOD\n",
        "cp25=data_2015Q3_pnew.COVERAGE_PERIOD\n",
        "cp26=data_2015Q4_pnew.COVERAGE_PERIOD\n",
        "cp27=data_2016Q1_pnew.COVERAGE_PERIOD\n",
        "cp28=data_2016Q2_pnew.COVERAGE_PERIOD\n",
        "cp29=data_2016Q3_pnew.COVERAGE_PERIOD\n",
        "cp30=data_2016Q4_pnew.COVERAGE_PERIOD\n",
        "cp31=data_2017Q1_pnew.COVERAGE_PERIOD\n",
        "cp32=data_2017Q2_pnew.COVERAGE_PERIOD\n",
        "cp33=data_2017Q3_pnew.COVERAGE_PERIOD\n",
        "cp34=data_2017Q4_pnew.COVERAGE_PERIOD\n",
        "cp35=data_2018Q1_pnew.COVERAGE_PERIOD\n"
      ],
      "execution_count": 0,
      "outputs": []
    },
    {
      "metadata": {
        "id": "CrY3nvh9H0Sl",
        "colab_type": "code",
        "colab": {
          "base_uri": "https://localhost:8080/",
          "height": 1071
        },
        "outputId": "b340c8bd-454c-42ad-8ba2-c4ed7da00fd7"
      },
      "cell_type": "code",
      "source": [
        "cp1.append(cp2,ignore_index=True)\n",
        "cp1.append(cp3,ignore_index=True)\n",
        "cp1.append(cp4,ignore_index=True)\n",
        "cp1.append(cp5,ignore_index=True)\n",
        "cp1.append(cp6,ignore_index=True)\n",
        "cp1.append(cp7,ignore_index=True)\n",
        "cp1.append(cp8,ignore_index=True)\n",
        "cp1.append(cp9,ignore_index=True)\n",
        "cp1.append(cp10,ignore_index=True)\n",
        "cp1.append(cp11,ignore_index=True)\n",
        "cp1.append(cp12,ignore_index=True)\n",
        "cp1.append(cp13,ignore_index=True)\n",
        "cp1.append(cp14,ignore_index=True)\n",
        "cp1.append(cp15,ignore_index=True)\n",
        "cp1.append(cp16,ignore_index=True)\n",
        "cp1.append(cp17,ignore_index=True)\n",
        "cp1.append(cp18,ignore_index=True)\n",
        "cp1.append(cp19,ignore_index=True)\n",
        "cp1.append(cp20,ignore_index=True)\n",
        "cp1.append(cp21,ignore_index=True)\n",
        "cp1.append(cp22,ignore_index=True)\n",
        "cp1.append(cp23,ignore_index=True)\n",
        "cp1.append(cp24,ignore_index=True)\n",
        "cp1.append(cp25,ignore_index=True)\n",
        "cp1.append(cp26,ignore_index=True)\n",
        "cp1.append(cp27,ignore_index=True)\n",
        "cp1.append(cp28,ignore_index=True)\n",
        "cp1.append(cp29,ignore_index=True)\n",
        "cp1.append(cp30,ignore_index=True)\n",
        "cp1.append(cp31,ignore_index=True)\n",
        "cp1.append(cp32,ignore_index=True)\n",
        "cp1.append(cp33,ignore_index=True)\n",
        "cp1.append(cp34,ignore_index=True)\n",
        "cp1.append(cp35,ignore_index=True)\n"
      ],
      "execution_count": 315,
      "outputs": [
        {
          "output_type": "execute_result",
          "data": {
            "text/plain": [
              "0          0\n",
              "1          0\n",
              "2          0\n",
              "3          0\n",
              "4          0\n",
              "5          0\n",
              "6          0\n",
              "7        -30\n",
              "8        -30\n",
              "9        -29\n",
              "10         0\n",
              "11         0\n",
              "12         0\n",
              "13         0\n",
              "14         0\n",
              "15         0\n",
              "16         0\n",
              "17         0\n",
              "18         0\n",
              "19         0\n",
              "20         0\n",
              "21         0\n",
              "22         0\n",
              "23         0\n",
              "24         0\n",
              "25         0\n",
              "26         0\n",
              "27         0\n",
              "28         0\n",
              "29         0\n",
              "          ..\n",
              "198058   -30\n",
              "198059   -27\n",
              "198060   -27\n",
              "198061   -27\n",
              "198062   -30\n",
              "198063   -27\n",
              "198064   -30\n",
              "198065   -30\n",
              "198066   -30\n",
              "198067   -30\n",
              "198068   -27\n",
              "198069   -30\n",
              "198070   -30\n",
              "198071     0\n",
              "198072     0\n",
              "198073     0\n",
              "198074   -30\n",
              "198075     0\n",
              "198076     0\n",
              "198077   -60\n",
              "198078     0\n",
              "198079     0\n",
              "198080     0\n",
              "198081   -30\n",
              "198082   -30\n",
              "198083   -30\n",
              "198084   -27\n",
              "198085     0\n",
              "198086     0\n",
              "198087     0\n",
              "Name: COVERAGE_PERIOD, Length: 198088, dtype: int64"
            ]
          },
          "metadata": {
            "tags": []
          },
          "execution_count": 315
        }
      ]
    },
    {
      "metadata": {
        "id": "6fvAKUdoH22K",
        "colab_type": "code",
        "colab": {
          "base_uri": "https://localhost:8080/",
          "height": 34
        },
        "outputId": "0260b765-1cd7-4186-abe3-11b4ba6727e0"
      },
      "cell_type": "code",
      "source": [
        "cp1.std()"
      ],
      "execution_count": 317,
      "outputs": [
        {
          "output_type": "execute_result",
          "data": {
            "text/plain": [
              "53.017144095198184"
            ]
          },
          "metadata": {
            "tags": []
          },
          "execution_count": 317
        }
      ]
    }
  ]
}